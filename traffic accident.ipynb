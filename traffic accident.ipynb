{
 "cells": [
  {
   "cell_type": "markdown",
   "metadata": {},
   "source": [
    "ช่วง 7 วันอันตราย เป็นช่วงที่เกิดอุบติเหตุมากกว่าปกติ จริงหรือไม่ <br>\n",
    "การทดลองนี้ทำการทดสอบอย่างง่าย เพื่อตอบคำถามข้างต้น <br>\n",
    "อาศัยข้อมูลจาก ศูนย์ข้อมูลอุบัติเหตุ Thai Rsc (http://rvpreport.rvpeservice.com/viewrsc.aspx?report=0486&session=16)"
   ]
  },
  {
   "cell_type": "code",
   "execution_count": 84,
   "metadata": {
    "collapsed": true
   },
   "outputs": [],
   "source": [
    "%matplotlib inline\n",
    "\n",
    "import requests\n",
    "import pandas as pd\n",
    "from StringIO import StringIO\n",
    "import statsmodels.api as sm"
   ]
  },
  {
   "cell_type": "code",
   "execution_count": 57,
   "metadata": {
    "collapsed": false
   },
   "outputs": [],
   "source": [
    "r = requests.get('https://docs.google.com/feeds/download/spreadsheets/Export?key=1ck74o6FUXPWSH2YW4Q-VMjvvXQ_hKu9RHugAKfOBYM4&exportFormat=csv&gid=0')\n",
    "data = r.content"
   ]
  },
  {
   "cell_type": "code",
   "execution_count": 58,
   "metadata": {
    "collapsed": false
   },
   "outputs": [],
   "source": [
    "df = pd.read_csv(StringIO(data))"
   ]
  },
  {
   "cell_type": "code",
   "execution_count": 59,
   "metadata": {
    "collapsed": false
   },
   "outputs": [
    {
     "data": {
      "text/html": [
       "<div>\n",
       "<table border=\"1\" class=\"dataframe\">\n",
       "  <thead>\n",
       "    <tr style=\"text-align: right;\">\n",
       "      <th></th>\n",
       "      <th>year</th>\n",
       "      <th>month</th>\n",
       "      <th>disabled</th>\n",
       "      <th>injured</th>\n",
       "      <th>dead</th>\n",
       "    </tr>\n",
       "  </thead>\n",
       "  <tbody>\n",
       "    <tr>\n",
       "      <th>0</th>\n",
       "      <td>2010</td>\n",
       "      <td>1</td>\n",
       "      <td>68</td>\n",
       "      <td>25350</td>\n",
       "      <td>747</td>\n",
       "    </tr>\n",
       "    <tr>\n",
       "      <th>1</th>\n",
       "      <td>2010</td>\n",
       "      <td>2</td>\n",
       "      <td>55</td>\n",
       "      <td>24938</td>\n",
       "      <td>668</td>\n",
       "    </tr>\n",
       "    <tr>\n",
       "      <th>2</th>\n",
       "      <td>2010</td>\n",
       "      <td>3</td>\n",
       "      <td>58</td>\n",
       "      <td>26318</td>\n",
       "      <td>756</td>\n",
       "    </tr>\n",
       "    <tr>\n",
       "      <th>3</th>\n",
       "      <td>2010</td>\n",
       "      <td>4</td>\n",
       "      <td>55</td>\n",
       "      <td>25271</td>\n",
       "      <td>754</td>\n",
       "    </tr>\n",
       "    <tr>\n",
       "      <th>4</th>\n",
       "      <td>2010</td>\n",
       "      <td>5</td>\n",
       "      <td>66</td>\n",
       "      <td>24308</td>\n",
       "      <td>653</td>\n",
       "    </tr>\n",
       "  </tbody>\n",
       "</table>\n",
       "</div>"
      ],
      "text/plain": [
       "   year  month  disabled  injured  dead\n",
       "0  2010      1        68    25350   747\n",
       "1  2010      2        55    24938   668\n",
       "2  2010      3        58    26318   756\n",
       "3  2010      4        55    25271   754\n",
       "4  2010      5        66    24308   653"
      ]
     },
     "execution_count": 59,
     "metadata": {},
     "output_type": "execute_result"
    }
   ],
   "source": [
    "df.head()"
   ]
  },
  {
   "cell_type": "markdown",
   "metadata": {},
   "source": [
    "ค่าเฉลี่ยของการเกิดอุบัติเหตุในแต่ละเดือน ตั้งแต่ปี 2010 - 2015"
   ]
  },
  {
   "cell_type": "code",
   "execution_count": 111,
   "metadata": {
    "collapsed": false
   },
   "outputs": [
    {
     "name": "stdout",
     "output_type": "stream",
     "text": [
      "month = 1: 732.67\n",
      "month = 2: 689.67\n",
      "month = 3: 746.33\n",
      "month = 4: 704.83\n",
      "month = 5: 628.17\n",
      "month = 6: 626.83\n",
      "month = 7: 647.33\n",
      "month = 8: 617.17\n",
      "month = 9: 598.83\n",
      "month = 10: 679.83\n",
      "month = 11: 758.33\n",
      "month = 12: 877.33\n"
     ]
    }
   ],
   "source": [
    "for month in range(1, 13):\n",
    "    print \"month = %d: %.2f\" % (month, df[df['month']==month].describe()['dead']['mean'])"
   ]
  },
  {
   "cell_type": "code",
   "execution_count": 126,
   "metadata": {
    "collapsed": false
   },
   "outputs": [
    {
     "data": {
      "text/plain": [
       "<matplotlib.axes._subplots.AxesSubplot at 0x11e844f50>"
      ]
     },
     "execution_count": 126,
     "metadata": {},
     "output_type": "execute_result"
    },
    {
     "data": {
      "image/png": "[encoded data removed]",
      "text/plain": [
       "<matplotlib.figure.Figure at 0x11e858b90>"
      ]
     },
     "metadata": {},
     "output_type": "display_data"
    }
   ],
   "source": [
    "df.plot(kind='scatter', y='dead', x='month')"
   ]
  },
  {
   "cell_type": "code",
   "execution_count": 118,
   "metadata": {
    "collapsed": false
   },
   "outputs": [
    {
     "data": {
      "text/plain": [
       "<matplotlib.axes._subplots.AxesSubplot at 0x11ccc2910>"
      ]
     },
     "execution_count": 118,
     "metadata": {},
     "output_type": "execute_result"
    },
    {
     "data": {
      "image/png": "[encoded data removed]",
      "text/plain": [
       "<matplotlib.figure.Figure at 0x11ce40d50>"
      ]
     },
     "metadata": {},
     "output_type": "display_data"
    }
   ],
   "source": [
    "df.plot(kind='scatter', y='injured', x='month')"
   ]
  },
  {
   "cell_type": "code",
   "execution_count": 119,
   "metadata": {
    "collapsed": false
   },
   "outputs": [
    {
     "data": {
      "text/plain": [
       "<matplotlib.axes._subplots.AxesSubplot at 0x11d0cda50>"
      ]
     },
     "execution_count": 119,
     "metadata": {},
     "output_type": "execute_result"
    },
    {
     "data": {
      "image/png": "[encoded data removed]",
      "text/plain": [
       "<matplotlib.figure.Figure at 0x11d15a050>"
      ]
     },
     "metadata": {},
     "output_type": "display_data"
    }
   ],
   "source": [
    "df.plot(kind='scatter', y='disabled', x='month')"
   ]
  },
  {
   "cell_type": "markdown",
   "metadata": {},
   "source": [
    "ทดสอบความแตกต่างระหว่างค่าเฉลี่ยของการเกิดอุบัติเหตุในช่วงวันสงกรานต์ <br>\n",
    "โดยเปรียบเทียบค่าเฉลี่ยของการเกิดอุบัติเหตุในเดือนเมษายนกับเดือนอื่นๆ <br>\n",
    "(test statistic - ttest independent sample)"
   ]
  },
  {
   "cell_type": "code",
   "execution_count": 112,
   "metadata": {
    "collapsed": false
   },
   "outputs": [
    {
     "name": "stdout",
     "output_type": "stream",
     "text": [
      "1th month with 1th month 0.754529(p-value) \n",
      "1th month with 2th month 0.852119(p-value) \n",
      "1th month with 3th month 0.596587(p-value) \n",
      "1th month with 4th month 1.000000(p-value) \n",
      "1th month with 5th month 0.316161(p-value) \n",
      "1th month with 6th month 0.298966(p-value) \n",
      "1th month with 7th month 0.386474(p-value) \n",
      "1th month with 8th month 0.223249(p-value) \n",
      "1th month with 9th month 0.105931(p-value) \n",
      "1th month with 10th month 0.676543(p-value) \n",
      "1th month with 11th month 0.410955(p-value) \n",
      "1th month with 12th month 0.015216(p-value) \n"
     ]
    }
   ],
   "source": [
    "for month in range(1, 13):\n",
    "    print \"1th month with %dth month %f(p-value) \" % (month, sm.stats.ttest_ind(df[df['month']==4]['dead'], df[df['month']==month]['dead'], 'two-sided')[1])"
   ]
  },
  {
   "cell_type": "markdown",
   "metadata": {},
   "source": [
    "ผลข้างต้น พบว่า ค่าเฉลี่ยของการเกิดอุบัติเหตุในเดือน เมษายน ไม่มีความแตกต่างอย่างมีนัยสำคัญทางสถิติเมื่อเทียบกับเดือนอื่นๆ ยกเว้นเดือน ธันวาคม"
   ]
  },
  {
   "cell_type": "code",
   "execution_count": null,
   "metadata": {
    "collapsed": true
   },
   "outputs": [],
   "source": []
  }
 ],
 "metadata": {
  "kernelspec": {
   "display_name": "Python 2",
   "language": "python",
   "name": "python2"
  },
  "language_info": {
   "codemirror_mode": {
    "name": "ipython",
    "version": 2
   },
   "file_extension": ".py",
   "mimetype": "text/x-python",
   "name": "python",
   "nbconvert_exporter": "python",
   "pygments_lexer": "ipython2",
   "version": "2.7.11"
  }
 },
 "nbformat": 4,
 "nbformat_minor": 0
}
